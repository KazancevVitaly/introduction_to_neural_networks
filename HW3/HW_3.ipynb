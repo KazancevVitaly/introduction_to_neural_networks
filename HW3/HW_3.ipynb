{
 "cells": [
  {
   "cell_type": "markdown",
   "id": "28160c06",
   "metadata": {},
   "source": [
    "# GEEK BRAINS\n",
    "## Введение в нейронные сети\n",
    "## ДЗ Урока 3\n",
    "### Виталий Казанцев"
   ]
  },
  {
   "cell_type": "markdown",
   "id": "4b5e4d4b",
   "metadata": {},
   "source": [
    "## Практическое задание\n",
    "\n",
    "\n",
    "1. Попробуйте улучшить работу нейронной сети(разобранную на уроке) обучавшейся на датасет Fashion-MNIST. \n",
    "       Опишите в комментарии к уроку - какого результата вы добились от нейросети? Что помогло вам улучшить ее точность?\n",
    "\n",
    "    \n",
    "2. Поработайте с документацией TensorFlow 2. Попробуйте найти полезные команды TensorFlow неразобранные на уроке.\n",
    "        \n",
    "*3. Попробуйте обучить нейронную сеть на TensorFlow 2 на датасете imdb_reviews. Опишите в комментарии к уроку - какой результата вы добились от нейросети? Что помогло вам улучшить ее точность? </li>"
   ]
  },
  {
   "cell_type": "code",
   "execution_count": 1,
   "id": "cdb8ef34",
   "metadata": {},
   "outputs": [
    {
     "name": "stderr",
     "output_type": "stream",
     "text": [
      "2022-12-12 12:43:03.218376: I tensorflow/core/platform/cpu_feature_guard.cc:193] This TensorFlow binary is optimized with oneAPI Deep Neural Network Library (oneDNN) to use the following CPU instructions in performance-critical operations:  SSE4.1 SSE4.2 AVX AVX2 FMA\n",
      "To enable them in other operations, rebuild TensorFlow with the appropriate compiler flags.\n"
     ]
    }
   ],
   "source": [
    "import tensorflow as tf\n",
    "import matplotlib.pyplot as plt\n",
    "import numpy as np\n",
    "from tensorflow import keras\n"
   ]
  },
  {
   "cell_type": "code",
   "execution_count": 2,
   "id": "622936e0",
   "metadata": {},
   "outputs": [],
   "source": [
    "fashion_mnist = tf.keras.datasets.fashion_mnist\n",
    "\n",
    "(train_images, train_labels), (test_images, test_labels) = fashion_mnist.load_data()"
   ]
  },
  {
   "cell_type": "code",
   "execution_count": 3,
   "id": "357d4d80",
   "metadata": {},
   "outputs": [],
   "source": [
    "class_names = ['T-shirt/top', 'Trouser', 'Pullover', 'Dress', 'Coat',\n",
    "               'Sandal', 'Shirt', 'Sneaker', 'Bag', 'Ankle boot']"
   ]
  },
  {
   "cell_type": "markdown",
   "id": "a1ccd3c1",
   "metadata": {},
   "source": [
    "#### Анализ данных"
   ]
  },
  {
   "cell_type": "code",
   "execution_count": 4,
   "id": "5716c2a7",
   "metadata": {},
   "outputs": [
    {
     "data": {
      "text/plain": [
       "(60000, 28, 28)"
      ]
     },
     "execution_count": 4,
     "metadata": {},
     "output_type": "execute_result"
    }
   ],
   "source": [
    "train_images.shape"
   ]
  },
  {
   "cell_type": "code",
   "execution_count": 5,
   "id": "5e28c1b7",
   "metadata": {},
   "outputs": [
    {
     "data": {
      "text/plain": [
       "60000"
      ]
     },
     "execution_count": 5,
     "metadata": {},
     "output_type": "execute_result"
    }
   ],
   "source": [
    "len(train_labels)"
   ]
  },
  {
   "cell_type": "code",
   "execution_count": 6,
   "id": "7a2cddeb",
   "metadata": {},
   "outputs": [
    {
     "data": {
      "text/plain": [
       "array([9, 0, 0, ..., 3, 0, 5], dtype=uint8)"
      ]
     },
     "execution_count": 6,
     "metadata": {},
     "output_type": "execute_result"
    }
   ],
   "source": [
    "train_labels"
   ]
  },
  {
   "cell_type": "code",
   "execution_count": 7,
   "id": "b2ea7c84",
   "metadata": {},
   "outputs": [
    {
     "data": {
      "text/plain": [
       "(10000, 28, 28)"
      ]
     },
     "execution_count": 7,
     "metadata": {},
     "output_type": "execute_result"
    }
   ],
   "source": [
    "test_images.shape"
   ]
  },
  {
   "cell_type": "code",
   "execution_count": 8,
   "id": "df114963",
   "metadata": {},
   "outputs": [
    {
     "data": {
      "text/plain": [
       "10000"
      ]
     },
     "execution_count": 8,
     "metadata": {},
     "output_type": "execute_result"
    }
   ],
   "source": [
    "len(test_labels)"
   ]
  },
  {
   "cell_type": "markdown",
   "id": "3b5d7c13",
   "metadata": {},
   "source": [
    "#### Preprocess the data"
   ]
  },
  {
   "cell_type": "code",
   "execution_count": 9,
   "id": "38487132",
   "metadata": {
    "scrolled": true
   },
   "outputs": [
    {
     "data": {
      "image/png": "[encoded data removed]",
      "text/plain": [
       "<Figure size 640x480 with 2 Axes>"
      ]
     },
     "metadata": {},
     "output_type": "display_data"
    }
   ],
   "source": [
    "plt.figure()\n",
    "plt.imshow(train_images[2500])\n",
    "plt.colorbar()\n",
    "plt.grid(False)\n",
    "plt.show()"
   ]
  },
  {
   "cell_type": "code",
   "execution_count": 10,
   "id": "173a17ec",
   "metadata": {},
   "outputs": [],
   "source": [
    "train_images = train_images / 255.0\n",
    "\n",
    "test_images = test_images / 255.0"
   ]
  },
  {
   "cell_type": "markdown",
   "id": "304f7012",
   "metadata": {},
   "source": [
    "#### Построение модели"
   ]
  },
  {
   "cell_type": "code",
   "execution_count": 11,
   "id": "7d08d3e2",
   "metadata": {},
   "outputs": [
    {
     "name": "stderr",
     "output_type": "stream",
     "text": [
      "2022-12-12 12:43:05.542954: I tensorflow/core/platform/cpu_feature_guard.cc:193] This TensorFlow binary is optimized with oneAPI Deep Neural Network Library (oneDNN) to use the following CPU instructions in performance-critical operations:  SSE4.1 SSE4.2 AVX AVX2 FMA\n",
      "To enable them in other operations, rebuild TensorFlow with the appropriate compiler flags.\n"
     ]
    }
   ],
   "source": [
    "model = keras.Sequential([\n",
    "    keras.layers.Flatten(input_shape=(28, 28)),\n",
    "    keras.layers.Dense(128, activation='relu'),\n",
    "    keras.layers.Dense(10)\n",
    "])"
   ]
  },
  {
   "cell_type": "code",
   "execution_count": 12,
   "id": "f728d49d",
   "metadata": {},
   "outputs": [],
   "source": [
    "model.compile(optimizer='adam',\n",
    "              loss=tf.keras.losses.SparseCategoricalCrossentropy(from_logits=True),\n",
    "              metrics=['accuracy'])"
   ]
  },
  {
   "cell_type": "code",
   "execution_count": 13,
   "id": "6da896a6",
   "metadata": {},
   "outputs": [
    {
     "name": "stdout",
     "output_type": "stream",
     "text": [
      "Epoch 1/3\n",
      "1875/1875 [==============================] - 2s 1ms/step - loss: 0.4996 - accuracy: 0.8254\n",
      "Epoch 2/3\n",
      "1875/1875 [==============================] - 2s 975us/step - loss: 0.3808 - accuracy: 0.8621\n",
      "Epoch 3/3\n",
      "1875/1875 [==============================] - 2s 967us/step - loss: 0.3396 - accuracy: 0.8759\n"
     ]
    },
    {
     "data": {
      "text/plain": [
       "<keras.callbacks.History at 0x7fb5bfc431f0>"
      ]
     },
     "execution_count": 13,
     "metadata": {},
     "output_type": "execute_result"
    }
   ],
   "source": [
    "model.fit(train_images, train_labels, epochs=3)"
   ]
  },
  {
   "cell_type": "code",
   "execution_count": 14,
   "id": "3697d35d",
   "metadata": {},
   "outputs": [
    {
     "name": "stdout",
     "output_type": "stream",
     "text": [
      "313/313 - 0s - loss: 0.3660 - accuracy: 0.8712 - 288ms/epoch - 919us/step\n",
      "\n",
      "Test accuracy: 0.8712000250816345\n"
     ]
    }
   ],
   "source": [
    "test_loss, test_acc = model.evaluate(test_images,  test_labels, verbose=2)\n",
    "\n",
    "print('\\nTest accuracy:', test_acc)"
   ]
  },
  {
   "cell_type": "markdown",
   "id": "69fb282d",
   "metadata": {},
   "source": [
    "Эта модель, которую мы построили на уроке, оценка accuracy данной модели 0.87. Попробуем улучшить данную модель."
   ]
  },
  {
   "cell_type": "code",
   "execution_count": 31,
   "id": "2b6b610d",
   "metadata": {},
   "outputs": [],
   "source": [
    "def make_model(layers, neuro=128):\n",
    "    model = keras.Sequential([\n",
    "        keras.layers.Flatten(input_shape=(28, 28)),\n",
    "        keras.layers.Dense(neuro, activation='relu'),\n",
    "    ])\n",
    "\n",
    "    for _ in range(layers):        \n",
    "        model.add(keras.layers.Dense(neuro, activation='tanh'))\n",
    "    \n",
    "    model.add(keras.layers.Dense(10, activation='softmax'))\n",
    "    model.compile(optimizer='adam',\n",
    "                loss=tf.keras.losses.SparseCategoricalCrossentropy(from_logits=True),\n",
    "                metrics=['accuracy'])\n",
    "    model.summary()\n",
    "    model.fit(train_images, train_labels, epochs=3, validation_split=0.2)\n",
    "   "
   ]
  },
  {
   "cell_type": "code",
   "execution_count": 32,
   "id": "dc31566e",
   "metadata": {},
   "outputs": [
    {
     "name": "stdout",
     "output_type": "stream",
     "text": [
      "Model: \"sequential_10\"\n",
      "_________________________________________________________________\n",
      " Layer (type)                Output Shape              Param #   \n",
      "=================================================================\n",
      " flatten_10 (Flatten)        (None, 784)               0         \n",
      "                                                                 \n",
      " dense_141 (Dense)           (None, 128)               100480    \n",
      "                                                                 \n",
      " dense_142 (Dense)           (None, 128)               16512     \n",
      "                                                                 \n",
      " dense_143 (Dense)           (None, 10)                1290      \n",
      "                                                                 \n",
      "=================================================================\n",
      "Total params: 118,282\n",
      "Trainable params: 118,282\n",
      "Non-trainable params: 0\n",
      "_________________________________________________________________\n",
      "Epoch 1/3\n"
     ]
    },
    {
     "name": "stderr",
     "output_type": "stream",
     "text": [
      "/home/vitaly/anaconda3/envs/tensorflow/lib/python3.10/site-packages/keras/backend.py:5582: UserWarning: \"`sparse_categorical_crossentropy` received `from_logits=True`, but the `output` argument was produced by a Softmax activation and thus does not represent logits. Was this intended?\n",
      "  output, from_logits = _get_logits(\n"
     ]
    },
    {
     "name": "stdout",
     "output_type": "stream",
     "text": [
      "1500/1500 [==============================] - 2s 1ms/step - loss: 0.4903 - accuracy: 0.8218 - val_loss: 0.4161 - val_accuracy: 0.8412\n",
      "Epoch 2/3\n",
      "1500/1500 [==============================] - 2s 1ms/step - loss: 0.3675 - accuracy: 0.8657 - val_loss: 0.3611 - val_accuracy: 0.8658\n",
      "Epoch 3/3\n",
      "1500/1500 [==============================] - 2s 1ms/step - loss: 0.3272 - accuracy: 0.8780 - val_loss: 0.3415 - val_accuracy: 0.8754\n",
      "Model: \"sequential_11\"\n",
      "_________________________________________________________________\n",
      " Layer (type)                Output Shape              Param #   \n",
      "=================================================================\n",
      " flatten_11 (Flatten)        (None, 784)               0         \n",
      "                                                                 \n",
      " dense_144 (Dense)           (None, 128)               100480    \n",
      "                                                                 \n",
      " dense_145 (Dense)           (None, 128)               16512     \n",
      "                                                                 \n",
      " dense_146 (Dense)           (None, 128)               16512     \n",
      "                                                                 \n",
      " dense_147 (Dense)           (None, 10)                1290      \n",
      "                                                                 \n",
      "=================================================================\n",
      "Total params: 134,794\n",
      "Trainable params: 134,794\n",
      "Non-trainable params: 0\n",
      "_________________________________________________________________\n",
      "Epoch 1/3\n",
      "1500/1500 [==============================] - 3s 2ms/step - loss: 0.4911 - accuracy: 0.8185 - val_loss: 0.4051 - val_accuracy: 0.8431\n",
      "Epoch 2/3\n",
      "1500/1500 [==============================] - 2s 1ms/step - loss: 0.3695 - accuracy: 0.8621 - val_loss: 0.3738 - val_accuracy: 0.8606\n",
      "Epoch 3/3\n",
      "1500/1500 [==============================] - 2s 1ms/step - loss: 0.3354 - accuracy: 0.8741 - val_loss: 0.3737 - val_accuracy: 0.8618\n",
      "Model: \"sequential_12\"\n",
      "_________________________________________________________________\n",
      " Layer (type)                Output Shape              Param #   \n",
      "=================================================================\n",
      " flatten_12 (Flatten)        (None, 784)               0         \n",
      "                                                                 \n",
      " dense_148 (Dense)           (None, 128)               100480    \n",
      "                                                                 \n",
      " dense_149 (Dense)           (None, 128)               16512     \n",
      "                                                                 \n",
      " dense_150 (Dense)           (None, 128)               16512     \n",
      "                                                                 \n",
      " dense_151 (Dense)           (None, 128)               16512     \n",
      "                                                                 \n",
      " dense_152 (Dense)           (None, 10)                1290      \n",
      "                                                                 \n",
      "=================================================================\n",
      "Total params: 151,306\n",
      "Trainable params: 151,306\n",
      "Non-trainable params: 0\n",
      "_________________________________________________________________\n",
      "Epoch 1/3\n",
      "1500/1500 [==============================] - 3s 2ms/step - loss: 0.4955 - accuracy: 0.8200 - val_loss: 0.4204 - val_accuracy: 0.8434\n",
      "Epoch 2/3\n",
      "1500/1500 [==============================] - 2s 2ms/step - loss: 0.3790 - accuracy: 0.8587 - val_loss: 0.3773 - val_accuracy: 0.8641\n",
      "Epoch 3/3\n",
      "1500/1500 [==============================] - 2s 2ms/step - loss: 0.3458 - accuracy: 0.8709 - val_loss: 0.3509 - val_accuracy: 0.8744\n",
      "Model: \"sequential_13\"\n",
      "_________________________________________________________________\n",
      " Layer (type)                Output Shape              Param #   \n",
      "=================================================================\n",
      " flatten_13 (Flatten)        (None, 784)               0         \n",
      "                                                                 \n",
      " dense_153 (Dense)           (None, 128)               100480    \n",
      "                                                                 \n",
      " dense_154 (Dense)           (None, 128)               16512     \n",
      "                                                                 \n",
      " dense_155 (Dense)           (None, 128)               16512     \n",
      "                                                                 \n",
      " dense_156 (Dense)           (None, 128)               16512     \n",
      "                                                                 \n",
      " dense_157 (Dense)           (None, 128)               16512     \n",
      "                                                                 \n",
      " dense_158 (Dense)           (None, 10)                1290      \n",
      "                                                                 \n",
      "=================================================================\n",
      "Total params: 167,818\n",
      "Trainable params: 167,818\n",
      "Non-trainable params: 0\n",
      "_________________________________________________________________\n",
      "Epoch 1/3\n",
      "1500/1500 [==============================] - 3s 2ms/step - loss: 0.5013 - accuracy: 0.8143 - val_loss: 0.4279 - val_accuracy: 0.8378\n",
      "Epoch 2/3\n",
      "1500/1500 [==============================] - 3s 2ms/step - loss: 0.3877 - accuracy: 0.8571 - val_loss: 0.4101 - val_accuracy: 0.8552\n",
      "Epoch 3/3\n",
      "1500/1500 [==============================] - 3s 2ms/step - loss: 0.3556 - accuracy: 0.8684 - val_loss: 0.3622 - val_accuracy: 0.8702\n",
      "Model: \"sequential_14\"\n",
      "_________________________________________________________________\n",
      " Layer (type)                Output Shape              Param #   \n",
      "=================================================================\n",
      " flatten_14 (Flatten)        (None, 784)               0         \n",
      "                                                                 \n",
      " dense_159 (Dense)           (None, 128)               100480    \n",
      "                                                                 \n",
      " dense_160 (Dense)           (None, 128)               16512     \n",
      "                                                                 \n",
      " dense_161 (Dense)           (None, 128)               16512     \n",
      "                                                                 \n",
      " dense_162 (Dense)           (None, 128)               16512     \n",
      "                                                                 \n",
      " dense_163 (Dense)           (None, 128)               16512     \n",
      "                                                                 \n",
      " dense_164 (Dense)           (None, 128)               16512     \n",
      "                                                                 \n",
      " dense_165 (Dense)           (None, 10)                1290      \n",
      "                                                                 \n",
      "=================================================================\n",
      "Total params: 184,330\n",
      "Trainable params: 184,330\n",
      "Non-trainable params: 0\n",
      "_________________________________________________________________\n",
      "Epoch 1/3\n",
      "1500/1500 [==============================] - 3s 2ms/step - loss: 0.5133 - accuracy: 0.8118 - val_loss: 0.4497 - val_accuracy: 0.8432\n",
      "Epoch 2/3\n",
      "1500/1500 [==============================] - 3s 2ms/step - loss: 0.4000 - accuracy: 0.8544 - val_loss: 0.3927 - val_accuracy: 0.8615\n",
      "Epoch 3/3\n",
      "1500/1500 [==============================] - 3s 2ms/step - loss: 0.3621 - accuracy: 0.8682 - val_loss: 0.3849 - val_accuracy: 0.8616\n",
      "Model: \"sequential_15\"\n",
      "_________________________________________________________________\n",
      " Layer (type)                Output Shape              Param #   \n",
      "=================================================================\n",
      " flatten_15 (Flatten)        (None, 784)               0         \n",
      "                                                                 \n",
      " dense_166 (Dense)           (None, 128)               100480    \n",
      "                                                                 \n",
      " dense_167 (Dense)           (None, 128)               16512     \n",
      "                                                                 \n",
      " dense_168 (Dense)           (None, 128)               16512     \n",
      "                                                                 \n",
      " dense_169 (Dense)           (None, 128)               16512     \n",
      "                                                                 \n",
      " dense_170 (Dense)           (None, 128)               16512     \n"
     ]
    },
    {
     "name": "stdout",
     "output_type": "stream",
     "text": [
      "                                                                 \n",
      " dense_171 (Dense)           (None, 128)               16512     \n",
      "                                                                 \n",
      " dense_172 (Dense)           (None, 128)               16512     \n",
      "                                                                 \n",
      " dense_173 (Dense)           (None, 10)                1290      \n",
      "                                                                 \n",
      "=================================================================\n",
      "Total params: 200,842\n",
      "Trainable params: 200,842\n",
      "Non-trainable params: 0\n",
      "_________________________________________________________________\n",
      "Epoch 1/3\n",
      "1500/1500 [==============================] - 3s 2ms/step - loss: 0.5250 - accuracy: 0.8108 - val_loss: 0.4642 - val_accuracy: 0.8388\n",
      "Epoch 2/3\n",
      "1500/1500 [==============================] - 3s 2ms/step - loss: 0.4082 - accuracy: 0.8536 - val_loss: 0.3835 - val_accuracy: 0.8648\n",
      "Epoch 3/3\n",
      "1500/1500 [==============================] - 3s 2ms/step - loss: 0.3751 - accuracy: 0.8639 - val_loss: 0.3813 - val_accuracy: 0.8643\n",
      "Model: \"sequential_16\"\n",
      "_________________________________________________________________\n",
      " Layer (type)                Output Shape              Param #   \n",
      "=================================================================\n",
      " flatten_16 (Flatten)        (None, 784)               0         \n",
      "                                                                 \n",
      " dense_174 (Dense)           (None, 128)               100480    \n",
      "                                                                 \n",
      " dense_175 (Dense)           (None, 128)               16512     \n",
      "                                                                 \n",
      " dense_176 (Dense)           (None, 128)               16512     \n",
      "                                                                 \n",
      " dense_177 (Dense)           (None, 128)               16512     \n",
      "                                                                 \n",
      " dense_178 (Dense)           (None, 128)               16512     \n",
      "                                                                 \n",
      " dense_179 (Dense)           (None, 128)               16512     \n",
      "                                                                 \n",
      " dense_180 (Dense)           (None, 128)               16512     \n",
      "                                                                 \n",
      " dense_181 (Dense)           (None, 128)               16512     \n",
      "                                                                 \n",
      " dense_182 (Dense)           (None, 10)                1290      \n",
      "                                                                 \n",
      "=================================================================\n",
      "Total params: 217,354\n",
      "Trainable params: 217,354\n",
      "Non-trainable params: 0\n",
      "_________________________________________________________________\n",
      "Epoch 1/3\n",
      "1500/1500 [==============================] - 4s 2ms/step - loss: 0.5332 - accuracy: 0.8075 - val_loss: 0.5225 - val_accuracy: 0.7927\n",
      "Epoch 2/3\n",
      "1500/1500 [==============================] - 3s 2ms/step - loss: 0.4223 - accuracy: 0.8486 - val_loss: 0.4567 - val_accuracy: 0.8335\n",
      "Epoch 3/3\n",
      "1500/1500 [==============================] - 3s 2ms/step - loss: 0.3845 - accuracy: 0.8620 - val_loss: 0.3893 - val_accuracy: 0.8612\n",
      "Model: \"sequential_17\"\n",
      "_________________________________________________________________\n",
      " Layer (type)                Output Shape              Param #   \n",
      "=================================================================\n",
      " flatten_17 (Flatten)        (None, 784)               0         \n",
      "                                                                 \n",
      " dense_183 (Dense)           (None, 128)               100480    \n",
      "                                                                 \n",
      " dense_184 (Dense)           (None, 128)               16512     \n",
      "                                                                 \n",
      " dense_185 (Dense)           (None, 128)               16512     \n",
      "                                                                 \n",
      " dense_186 (Dense)           (None, 128)               16512     \n",
      "                                                                 \n",
      " dense_187 (Dense)           (None, 128)               16512     \n",
      "                                                                 \n",
      " dense_188 (Dense)           (None, 128)               16512     \n",
      "                                                                 \n",
      " dense_189 (Dense)           (None, 128)               16512     \n",
      "                                                                 \n",
      " dense_190 (Dense)           (None, 128)               16512     \n",
      "                                                                 \n",
      " dense_191 (Dense)           (None, 128)               16512     \n",
      "                                                                 \n",
      " dense_192 (Dense)           (None, 10)                1290      \n",
      "                                                                 \n",
      "=================================================================\n",
      "Total params: 233,866\n",
      "Trainable params: 233,866\n",
      "Non-trainable params: 0\n",
      "_________________________________________________________________\n",
      "Epoch 1/3\n",
      "1500/1500 [==============================] - 4s 2ms/step - loss: 0.5521 - accuracy: 0.8021 - val_loss: 0.4543 - val_accuracy: 0.8430\n",
      "Epoch 2/3\n",
      "1500/1500 [==============================] - 3s 2ms/step - loss: 0.4371 - accuracy: 0.8425 - val_loss: 0.4597 - val_accuracy: 0.8403\n",
      "Epoch 3/3\n",
      "1500/1500 [==============================] - 3s 2ms/step - loss: 0.3984 - accuracy: 0.8580 - val_loss: 0.4210 - val_accuracy: 0.8509\n",
      "Model: \"sequential_18\"\n",
      "_________________________________________________________________\n",
      " Layer (type)                Output Shape              Param #   \n",
      "=================================================================\n",
      " flatten_18 (Flatten)        (None, 784)               0         \n",
      "                                                                 \n",
      " dense_193 (Dense)           (None, 128)               100480    \n",
      "                                                                 \n",
      " dense_194 (Dense)           (None, 128)               16512     \n",
      "                                                                 \n",
      " dense_195 (Dense)           (None, 128)               16512     \n",
      "                                                                 \n",
      " dense_196 (Dense)           (None, 128)               16512     \n",
      "                                                                 \n",
      " dense_197 (Dense)           (None, 128)               16512     \n",
      "                                                                 \n",
      " dense_198 (Dense)           (None, 128)               16512     \n",
      "                                                                 \n",
      " dense_199 (Dense)           (None, 128)               16512     \n",
      "                                                                 \n",
      " dense_200 (Dense)           (None, 128)               16512     \n",
      "                                                                 \n",
      " dense_201 (Dense)           (None, 128)               16512     \n",
      "                                                                 \n",
      " dense_202 (Dense)           (None, 128)               16512     \n",
      "                                                                 \n",
      " dense_203 (Dense)           (None, 10)                1290      \n",
      "                                                                 \n",
      "=================================================================\n",
      "Total params: 250,378\n",
      "Trainable params: 250,378\n",
      "Non-trainable params: 0\n",
      "_________________________________________________________________\n",
      "Epoch 1/3\n",
      "1500/1500 [==============================] - 5s 2ms/step - loss: 0.5723 - accuracy: 0.7944 - val_loss: 0.5474 - val_accuracy: 0.7983\n",
      "Epoch 2/3\n",
      "1500/1500 [==============================] - 4s 2ms/step - loss: 0.4497 - accuracy: 0.8401 - val_loss: 0.4127 - val_accuracy: 0.8583\n",
      "Epoch 3/3\n",
      "1500/1500 [==============================] - 3s 2ms/step - loss: 0.4159 - accuracy: 0.8522 - val_loss: 0.4060 - val_accuracy: 0.8599\n",
      "Model: \"sequential_19\"\n",
      "_________________________________________________________________\n",
      " Layer (type)                Output Shape              Param #   \n",
      "=================================================================\n"
     ]
    },
    {
     "name": "stdout",
     "output_type": "stream",
     "text": [
      " flatten_19 (Flatten)        (None, 784)               0         \n",
      "                                                                 \n",
      " dense_204 (Dense)           (None, 128)               100480    \n",
      "                                                                 \n",
      " dense_205 (Dense)           (None, 128)               16512     \n",
      "                                                                 \n",
      " dense_206 (Dense)           (None, 128)               16512     \n",
      "                                                                 \n",
      " dense_207 (Dense)           (None, 128)               16512     \n",
      "                                                                 \n",
      " dense_208 (Dense)           (None, 128)               16512     \n",
      "                                                                 \n",
      " dense_209 (Dense)           (None, 128)               16512     \n",
      "                                                                 \n",
      " dense_210 (Dense)           (None, 128)               16512     \n",
      "                                                                 \n",
      " dense_211 (Dense)           (None, 128)               16512     \n",
      "                                                                 \n",
      " dense_212 (Dense)           (None, 128)               16512     \n",
      "                                                                 \n",
      " dense_213 (Dense)           (None, 128)               16512     \n",
      "                                                                 \n",
      " dense_214 (Dense)           (None, 128)               16512     \n",
      "                                                                 \n",
      " dense_215 (Dense)           (None, 10)                1290      \n",
      "                                                                 \n",
      "=================================================================\n",
      "Total params: 266,890\n",
      "Trainable params: 266,890\n",
      "Non-trainable params: 0\n",
      "_________________________________________________________________\n",
      "Epoch 1/3\n",
      "1500/1500 [==============================] - 4s 3ms/step - loss: 0.5780 - accuracy: 0.7949 - val_loss: 0.5197 - val_accuracy: 0.8225\n",
      "Epoch 2/3\n",
      "1500/1500 [==============================] - 4s 2ms/step - loss: 0.4621 - accuracy: 0.8372 - val_loss: 0.6514 - val_accuracy: 0.7969\n",
      "Epoch 3/3\n",
      "1500/1500 [==============================] - 4s 2ms/step - loss: 0.4406 - accuracy: 0.8459 - val_loss: 0.4314 - val_accuracy: 0.8493\n",
      "Model: \"sequential_20\"\n",
      "_________________________________________________________________\n",
      " Layer (type)                Output Shape              Param #   \n",
      "=================================================================\n",
      " flatten_20 (Flatten)        (None, 784)               0         \n",
      "                                                                 \n",
      " dense_216 (Dense)           (None, 128)               100480    \n",
      "                                                                 \n",
      " dense_217 (Dense)           (None, 128)               16512     \n",
      "                                                                 \n",
      " dense_218 (Dense)           (None, 128)               16512     \n",
      "                                                                 \n",
      " dense_219 (Dense)           (None, 128)               16512     \n",
      "                                                                 \n",
      " dense_220 (Dense)           (None, 128)               16512     \n",
      "                                                                 \n",
      " dense_221 (Dense)           (None, 128)               16512     \n",
      "                                                                 \n",
      " dense_222 (Dense)           (None, 128)               16512     \n",
      "                                                                 \n",
      " dense_223 (Dense)           (None, 128)               16512     \n",
      "                                                                 \n",
      " dense_224 (Dense)           (None, 128)               16512     \n",
      "                                                                 \n",
      " dense_225 (Dense)           (None, 128)               16512     \n",
      "                                                                 \n",
      " dense_226 (Dense)           (None, 128)               16512     \n",
      "                                                                 \n",
      " dense_227 (Dense)           (None, 128)               16512     \n",
      "                                                                 \n",
      " dense_228 (Dense)           (None, 10)                1290      \n",
      "                                                                 \n",
      "=================================================================\n",
      "Total params: 283,402\n",
      "Trainable params: 283,402\n",
      "Non-trainable params: 0\n",
      "_________________________________________________________________\n",
      "Epoch 1/3\n",
      "1500/1500 [==============================] - 4s 3ms/step - loss: 0.6012 - accuracy: 0.7874 - val_loss: 0.5436 - val_accuracy: 0.8213\n",
      "Epoch 2/3\n",
      "1500/1500 [==============================] - 4s 3ms/step - loss: 0.4830 - accuracy: 0.8344 - val_loss: 0.4579 - val_accuracy: 0.8374\n",
      "Epoch 3/3\n",
      "1500/1500 [==============================] - 4s 3ms/step - loss: 0.4614 - accuracy: 0.8388 - val_loss: 0.4672 - val_accuracy: 0.8378\n",
      "Model: \"sequential_21\"\n",
      "_________________________________________________________________\n",
      " Layer (type)                Output Shape              Param #   \n",
      "=================================================================\n",
      " flatten_21 (Flatten)        (None, 784)               0         \n",
      "                                                                 \n",
      " dense_229 (Dense)           (None, 128)               100480    \n",
      "                                                                 \n",
      " dense_230 (Dense)           (None, 128)               16512     \n",
      "                                                                 \n",
      " dense_231 (Dense)           (None, 128)               16512     \n",
      "                                                                 \n",
      " dense_232 (Dense)           (None, 128)               16512     \n",
      "                                                                 \n",
      " dense_233 (Dense)           (None, 128)               16512     \n",
      "                                                                 \n",
      " dense_234 (Dense)           (None, 128)               16512     \n",
      "                                                                 \n",
      " dense_235 (Dense)           (None, 128)               16512     \n",
      "                                                                 \n",
      " dense_236 (Dense)           (None, 128)               16512     \n",
      "                                                                 \n",
      " dense_237 (Dense)           (None, 128)               16512     \n",
      "                                                                 \n",
      " dense_238 (Dense)           (None, 128)               16512     \n",
      "                                                                 \n",
      " dense_239 (Dense)           (None, 128)               16512     \n",
      "                                                                 \n",
      " dense_240 (Dense)           (None, 128)               16512     \n",
      "                                                                 \n",
      " dense_241 (Dense)           (None, 128)               16512     \n",
      "                                                                 \n",
      " dense_242 (Dense)           (None, 10)                1290      \n",
      "                                                                 \n",
      "=================================================================\n",
      "Total params: 299,914\n",
      "Trainable params: 299,914\n",
      "Non-trainable params: 0\n",
      "_________________________________________________________________\n",
      "Epoch 1/3\n",
      "1500/1500 [==============================] - 5s 3ms/step - loss: 0.6319 - accuracy: 0.7770 - val_loss: 0.5350 - val_accuracy: 0.8164\n",
      "Epoch 2/3\n",
      "1500/1500 [==============================] - 4s 3ms/step - loss: 0.5019 - accuracy: 0.8259 - val_loss: 0.5704 - val_accuracy: 0.7954\n",
      "Epoch 3/3\n",
      "1500/1500 [==============================] - 4s 3ms/step - loss: 0.4758 - accuracy: 0.8369 - val_loss: 0.4726 - val_accuracy: 0.8378\n",
      "Model: \"sequential_22\"\n",
      "_________________________________________________________________\n",
      " Layer (type)                Output Shape              Param #   \n",
      "=================================================================\n",
      " flatten_22 (Flatten)        (None, 784)               0         \n",
      "                                                                 \n"
     ]
    },
    {
     "name": "stdout",
     "output_type": "stream",
     "text": [
      " dense_243 (Dense)           (None, 128)               100480    \n",
      "                                                                 \n",
      " dense_244 (Dense)           (None, 128)               16512     \n",
      "                                                                 \n",
      " dense_245 (Dense)           (None, 128)               16512     \n",
      "                                                                 \n",
      " dense_246 (Dense)           (None, 128)               16512     \n",
      "                                                                 \n",
      " dense_247 (Dense)           (None, 128)               16512     \n",
      "                                                                 \n",
      " dense_248 (Dense)           (None, 128)               16512     \n",
      "                                                                 \n",
      " dense_249 (Dense)           (None, 128)               16512     \n",
      "                                                                 \n",
      " dense_250 (Dense)           (None, 128)               16512     \n",
      "                                                                 \n",
      " dense_251 (Dense)           (None, 128)               16512     \n",
      "                                                                 \n",
      " dense_252 (Dense)           (None, 128)               16512     \n",
      "                                                                 \n",
      " dense_253 (Dense)           (None, 128)               16512     \n",
      "                                                                 \n",
      " dense_254 (Dense)           (None, 128)               16512     \n",
      "                                                                 \n",
      " dense_255 (Dense)           (None, 128)               16512     \n",
      "                                                                 \n",
      " dense_256 (Dense)           (None, 128)               16512     \n",
      "                                                                 \n",
      " dense_257 (Dense)           (None, 10)                1290      \n",
      "                                                                 \n",
      "=================================================================\n",
      "Total params: 316,426\n",
      "Trainable params: 316,426\n",
      "Non-trainable params: 0\n",
      "_________________________________________________________________\n",
      "Epoch 1/3\n",
      "1500/1500 [==============================] - 5s 3ms/step - loss: 0.6470 - accuracy: 0.7733 - val_loss: 0.6070 - val_accuracy: 0.7635\n",
      "Epoch 2/3\n",
      "1500/1500 [==============================] - 4s 3ms/step - loss: 0.5662 - accuracy: 0.8104 - val_loss: 0.6056 - val_accuracy: 0.7871\n",
      "Epoch 3/3\n",
      "1500/1500 [==============================] - 4s 3ms/step - loss: 0.7450 - accuracy: 0.7320 - val_loss: 0.9052 - val_accuracy: 0.6186\n",
      "Model: \"sequential_23\"\n",
      "_________________________________________________________________\n",
      " Layer (type)                Output Shape              Param #   \n",
      "=================================================================\n",
      " flatten_23 (Flatten)        (None, 784)               0         \n",
      "                                                                 \n",
      " dense_258 (Dense)           (None, 128)               100480    \n",
      "                                                                 \n",
      " dense_259 (Dense)           (None, 128)               16512     \n",
      "                                                                 \n",
      " dense_260 (Dense)           (None, 128)               16512     \n",
      "                                                                 \n",
      " dense_261 (Dense)           (None, 128)               16512     \n",
      "                                                                 \n",
      " dense_262 (Dense)           (None, 128)               16512     \n",
      "                                                                 \n",
      " dense_263 (Dense)           (None, 128)               16512     \n",
      "                                                                 \n",
      " dense_264 (Dense)           (None, 128)               16512     \n",
      "                                                                 \n",
      " dense_265 (Dense)           (None, 128)               16512     \n",
      "                                                                 \n",
      " dense_266 (Dense)           (None, 128)               16512     \n",
      "                                                                 \n",
      " dense_267 (Dense)           (None, 128)               16512     \n",
      "                                                                 \n",
      " dense_268 (Dense)           (None, 128)               16512     \n",
      "                                                                 \n",
      " dense_269 (Dense)           (None, 128)               16512     \n",
      "                                                                 \n",
      " dense_270 (Dense)           (None, 128)               16512     \n",
      "                                                                 \n",
      " dense_271 (Dense)           (None, 128)               16512     \n",
      "                                                                 \n",
      " dense_272 (Dense)           (None, 128)               16512     \n",
      "                                                                 \n",
      " dense_273 (Dense)           (None, 10)                1290      \n",
      "                                                                 \n",
      "=================================================================\n",
      "Total params: 332,938\n",
      "Trainable params: 332,938\n",
      "Non-trainable params: 0\n",
      "_________________________________________________________________\n",
      "Epoch 1/3\n",
      "1500/1500 [==============================] - 5s 3ms/step - loss: 0.6860 - accuracy: 0.7567 - val_loss: 0.4954 - val_accuracy: 0.8324\n",
      "Epoch 2/3\n",
      "1500/1500 [==============================] - 4s 3ms/step - loss: 0.6341 - accuracy: 0.7816 - val_loss: 0.7132 - val_accuracy: 0.7646\n",
      "Epoch 3/3\n",
      "1500/1500 [==============================] - 4s 3ms/step - loss: 0.6450 - accuracy: 0.7750 - val_loss: 0.6463 - val_accuracy: 0.7767\n",
      "Model: \"sequential_24\"\n",
      "_________________________________________________________________\n",
      " Layer (type)                Output Shape              Param #   \n",
      "=================================================================\n",
      " flatten_24 (Flatten)        (None, 784)               0         \n",
      "                                                                 \n",
      " dense_274 (Dense)           (None, 128)               100480    \n",
      "                                                                 \n",
      " dense_275 (Dense)           (None, 128)               16512     \n",
      "                                                                 \n",
      " dense_276 (Dense)           (None, 128)               16512     \n",
      "                                                                 \n",
      " dense_277 (Dense)           (None, 128)               16512     \n",
      "                                                                 \n",
      " dense_278 (Dense)           (None, 128)               16512     \n",
      "                                                                 \n",
      " dense_279 (Dense)           (None, 128)               16512     \n",
      "                                                                 \n",
      " dense_280 (Dense)           (None, 128)               16512     \n",
      "                                                                 \n",
      " dense_281 (Dense)           (None, 128)               16512     \n",
      "                                                                 \n",
      " dense_282 (Dense)           (None, 128)               16512     \n",
      "                                                                 \n",
      " dense_283 (Dense)           (None, 128)               16512     \n",
      "                                                                 \n",
      " dense_284 (Dense)           (None, 128)               16512     \n",
      "                                                                 \n",
      " dense_285 (Dense)           (None, 128)               16512     \n",
      "                                                                 \n",
      " dense_286 (Dense)           (None, 128)               16512     \n",
      "                                                                 \n",
      " dense_287 (Dense)           (None, 128)               16512     \n",
      "                                                                 \n",
      " dense_288 (Dense)           (None, 128)               16512     \n",
      "                                                                 \n",
      " dense_289 (Dense)           (None, 128)               16512     \n",
      "                                                                 \n",
      " dense_290 (Dense)           (None, 10)                1290      \n"
     ]
    },
    {
     "name": "stdout",
     "output_type": "stream",
     "text": [
      "                                                                 \n",
      "=================================================================\n",
      "Total params: 349,450\n",
      "Trainable params: 349,450\n",
      "Non-trainable params: 0\n",
      "_________________________________________________________________\n",
      "Epoch 1/3\n",
      "1500/1500 [==============================] - 5s 3ms/step - loss: 0.7554 - accuracy: 0.7281 - val_loss: 0.6931 - val_accuracy: 0.7869\n",
      "Epoch 2/3\n",
      "1500/1500 [==============================] - 4s 3ms/step - loss: 0.9870 - accuracy: 0.6273 - val_loss: 1.3340 - val_accuracy: 0.4369\n",
      "Epoch 3/3\n",
      "1500/1500 [==============================] - 5s 3ms/step - loss: 1.8350 - accuracy: 0.2576 - val_loss: 2.0528 - val_accuracy: 0.1902\n"
     ]
    }
   ],
   "source": [
    "layers = np.arange(1, 16)\n",
    "for l in layers:\n",
    "    make_model(l)"
   ]
  },
  {
   "cell_type": "markdown",
   "id": "a367cb32",
   "metadata": {},
   "source": [
    "Наилучший результат дает модель из 4х слоев."
   ]
  },
  {
   "cell_type": "code",
   "execution_count": 36,
   "id": "344b414b",
   "metadata": {},
   "outputs": [
    {
     "name": "stdout",
     "output_type": "stream",
     "text": [
      "Optimiser=SGD\n",
      "Model: \"sequential_36\"\n",
      "_________________________________________________________________\n",
      " Layer (type)                Output Shape              Param #   \n",
      "=================================================================\n",
      " flatten_36 (Flatten)        (None, 784)               0         \n",
      "                                                                 \n",
      " dense_324 (Dense)           (None, 128)               100480    \n",
      "                                                                 \n",
      " dense_325 (Dense)           (None, 128)               16512     \n",
      "                                                                 \n",
      " dense_326 (Dense)           (None, 10)                1290      \n",
      "                                                                 \n",
      "=================================================================\n",
      "Total params: 118,282\n",
      "Trainable params: 118,282\n",
      "Non-trainable params: 0\n",
      "_________________________________________________________________\n",
      "Epoch 1/3\n",
      "1500/1500 [==============================] - 2s 1ms/step - loss: 0.8070 - accuracy: 0.7326 - val_loss: 0.5736 - val_accuracy: 0.7976\n",
      "Epoch 2/3\n",
      "1500/1500 [==============================] - 2s 1ms/step - loss: 0.5170 - accuracy: 0.8206 - val_loss: 0.4841 - val_accuracy: 0.8290\n",
      "Epoch 3/3\n",
      "1500/1500 [==============================] - 2s 1ms/step - loss: 0.4670 - accuracy: 0.8371 - val_loss: 0.4759 - val_accuracy: 0.8287\n",
      "**************************************************\n",
      "Optimiser=RMSProp\n",
      "Model: \"sequential_37\"\n",
      "_________________________________________________________________\n",
      " Layer (type)                Output Shape              Param #   \n",
      "=================================================================\n",
      " flatten_37 (Flatten)        (None, 784)               0         \n",
      "                                                                 \n",
      " dense_327 (Dense)           (None, 128)               100480    \n",
      "                                                                 \n",
      " dense_328 (Dense)           (None, 128)               16512     \n",
      "                                                                 \n",
      " dense_329 (Dense)           (None, 10)                1290      \n",
      "                                                                 \n",
      "=================================================================\n",
      "Total params: 118,282\n",
      "Trainable params: 118,282\n",
      "Non-trainable params: 0\n",
      "_________________________________________________________________\n",
      "Epoch 1/3\n",
      "1500/1500 [==============================] - 3s 2ms/step - loss: 0.5129 - accuracy: 0.8148 - val_loss: 0.4053 - val_accuracy: 0.8503\n",
      "Epoch 2/3\n",
      "1500/1500 [==============================] - 2s 2ms/step - loss: 0.3813 - accuracy: 0.8631 - val_loss: 0.3879 - val_accuracy: 0.8622\n",
      "Epoch 3/3\n",
      "1500/1500 [==============================] - 2s 2ms/step - loss: 0.3548 - accuracy: 0.8738 - val_loss: 0.3586 - val_accuracy: 0.8742\n",
      "**************************************************\n",
      "Optimiser=adam\n",
      "Model: \"sequential_38\"\n",
      "_________________________________________________________________\n",
      " Layer (type)                Output Shape              Param #   \n",
      "=================================================================\n",
      " flatten_38 (Flatten)        (None, 784)               0         \n",
      "                                                                 \n",
      " dense_330 (Dense)           (None, 128)               100480    \n",
      "                                                                 \n",
      " dense_331 (Dense)           (None, 128)               16512     \n",
      "                                                                 \n",
      " dense_332 (Dense)           (None, 10)                1290      \n",
      "                                                                 \n",
      "=================================================================\n",
      "Total params: 118,282\n",
      "Trainable params: 118,282\n",
      "Non-trainable params: 0\n",
      "_________________________________________________________________\n",
      "Epoch 1/3\n",
      "1500/1500 [==============================] - 2s 1ms/step - loss: 0.5058 - accuracy: 0.8194 - val_loss: 0.4035 - val_accuracy: 0.8547\n",
      "Epoch 2/3\n",
      "1500/1500 [==============================] - 2s 1ms/step - loss: 0.3720 - accuracy: 0.8631 - val_loss: 0.3719 - val_accuracy: 0.8664\n",
      "Epoch 3/3\n",
      "1500/1500 [==============================] - 2s 1ms/step - loss: 0.3338 - accuracy: 0.8771 - val_loss: 0.3679 - val_accuracy: 0.8681\n",
      "**************************************************\n",
      "Optimiser=NAdam\n",
      "Model: \"sequential_39\"\n",
      "_________________________________________________________________\n",
      " Layer (type)                Output Shape              Param #   \n",
      "=================================================================\n",
      " flatten_39 (Flatten)        (None, 784)               0         \n",
      "                                                                 \n",
      " dense_333 (Dense)           (None, 128)               100480    \n",
      "                                                                 \n",
      " dense_334 (Dense)           (None, 128)               16512     \n",
      "                                                                 \n",
      " dense_335 (Dense)           (None, 10)                1290      \n",
      "                                                                 \n",
      "=================================================================\n",
      "Total params: 118,282\n",
      "Trainable params: 118,282\n",
      "Non-trainable params: 0\n",
      "_________________________________________________________________\n",
      "Epoch 1/3\n",
      "1500/1500 [==============================] - 3s 2ms/step - loss: 0.4944 - accuracy: 0.8256 - val_loss: 0.4180 - val_accuracy: 0.8499\n",
      "Epoch 2/3\n",
      "1500/1500 [==============================] - 3s 2ms/step - loss: 0.3616 - accuracy: 0.8670 - val_loss: 0.3567 - val_accuracy: 0.8723\n",
      "Epoch 3/3\n",
      "1500/1500 [==============================] - 3s 2ms/step - loss: 0.3260 - accuracy: 0.8804 - val_loss: 0.3400 - val_accuracy: 0.8750\n",
      "**************************************************\n"
     ]
    },
    {
     "data": {
      "text/plain": [
       "<Figure size 1600x700 with 0 Axes>"
      ]
     },
     "metadata": {},
     "output_type": "display_data"
    }
   ],
   "source": [
    "model2 = keras.Sequential([\n",
    "    keras.layers.Flatten(input_shape=(28, 28)),\n",
    "    keras.layers.Dense(128, activation='relu'),\n",
    "    keras.layers.Dense(128, activation='relu'),\n",
    "    keras.layers.Dense(10, activation='softmax')\n",
    "])\n",
    "\n",
    "model2.save_weights('model.two')\n",
    "plt.figure(figsize=(16,7))\n",
    "\n",
    "for i_optim in ['SGD', 'RMSProp', 'adam', 'NAdam']:\n",
    "    modeli = keras.Sequential([\n",
    "        keras.layers.Flatten(input_shape=(28, 28)),\n",
    "        keras.layers.Dense(128, activation='relu'),\n",
    "        keras.layers.Dense(128, activation='relu'),\n",
    "        keras.layers.Dense(10, activation='softmax')\n",
    "    ])\n",
    "    \n",
    "    modeli.load_weights('model.two')\n",
    "    \n",
    "    modeli.compile(optimizer=i_optim,\n",
    "                loss=tf.keras.losses.SparseCategoricalCrossentropy(from_logits=True),\n",
    "                metrics=['accuracy'])\n",
    "    print(f'Optimiser={i_optim}')\n",
    "    modeli.summary()\n",
    "    modeli.fit(train_images, train_labels, epochs=3, validation_split=0.2)\n",
    "    print('*'*50)"
   ]
  },
  {
   "cell_type": "markdown",
   "id": "b8b521f3",
   "metadata": {},
   "source": [
    "Таким образом представленную модель можно улучшить добавлением одного дополнительного слоя и использованием Nadam оптимизатора."
   ]
  }
 ],
 "metadata": {
  "kernelspec": {
   "display_name": "Python 3 (ipykernel)",
   "language": "python",
   "name": "python3"
  },
  "language_info": {
   "codemirror_mode": {
    "name": "ipython",
    "version": 3
   },
   "file_extension": ".py",
   "mimetype": "text/x-python",
   "name": "python",
   "nbconvert_exporter": "python",
   "pygments_lexer": "ipython3",
   "version": "3.10.8"
  }
 },
 "nbformat": 4,
 "nbformat_minor": 5
}
