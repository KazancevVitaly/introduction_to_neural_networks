{
 "cells": [
  {
   "cell_type": "markdown",
   "id": "3a9dd409",
   "metadata": {},
   "source": [
    "# GeekBrains\n",
    "# Введение в нейроные сети\n",
    "## ДЗ Урока 2\n",
    "## Виталий Казанцев"
   ]
  },
  {
   "cell_type": "markdown",
   "id": "c2405519",
   "metadata": {},
   "source": [
    "Используем набор примеров fasion-MNIST  \n",
    "1 Опишите какой результат получен в нейро сети в зависимости от:  \n",
    " - Числа нейронов в слое (для 2-хслойной сети)   \n",
    " - Числа слоев(2, 3,5, 10) при близких размерах сети (близкле число тренируемых параметров)  \n",
    " - фиксируйте для тренировочного итестового набора метрики accuracy  \n",
    " \n",
    "2 Проверьте работу разных оптимизаторов (SGD, Adam, RMSProp) для одной из моделей п.1  \n",
    "  \n",
    "3 Сделайте выод - что помогло вам улучшить качество классификации в нейросети на тестовом наборе?  \n",
    "  \n",
    "4 Для одного варианта сетей сформируйте матрицу ошибок по классам. Оцените качество модели по каждому классу отдельно(полнота, точность). Сделайте вывод."
   ]
  },
  {
   "cell_type": "code",
   "execution_count": 1,
   "id": "771a6e50",
   "metadata": {},
   "outputs": [
    {
     "name": "stderr",
     "output_type": "stream",
     "text": [
      "2022-11-28 19:33:48.587010: I tensorflow/core/platform/cpu_feature_guard.cc:193] This TensorFlow binary is optimized with oneAPI Deep Neural Network Library (oneDNN) to use the following CPU instructions in performance-critical operations:  SSE4.1 SSE4.2 AVX AVX2 FMA\n",
      "To enable them in other operations, rebuild TensorFlow with the appropriate compiler flags.\n"
     ]
    },
    {
     "name": "stdout",
     "output_type": "stream",
     "text": [
      "(60000, 784)\n",
      "(10000, 784)\n"
     ]
    }
   ],
   "source": [
    "import numpy as np\n",
    "import keras\n",
    "import matplotlib.pyplot as plt\n",
    "\n",
    "from keras.datasets import fashion_mnist, mnist\n",
    "from keras.models import Sequential\n",
    "from keras.layers import Dense\n",
    "from keras.utils import to_categorical\n",
    "\n",
    "(train_imagesi, train_labels), (test_imagesi, test_labels) = fashion_mnist.load_data()\n",
    "\n",
    "train_imagesi = (train_imagesi / 127) - 1\n",
    "test_imagesi = (test_imagesi / 127) - 1\n",
    "\n",
    "train_images = train_imagesi.reshape((-1, 784))\n",
    "test_images = test_imagesi.reshape((-1, 784))\n",
    "\n",
    "print(train_images.shape) # (60000, 28, 28)\n",
    "print(test_images.shape) # (60000,)"
   ]
  },
  {
   "cell_type": "code",
   "execution_count": 2,
   "id": "b412a02a",
   "metadata": {},
   "outputs": [
    {
     "data": {
      "text/plain": [
       "(28, 28)"
      ]
     },
     "execution_count": 2,
     "metadata": {},
     "output_type": "execute_result"
    }
   ],
   "source": [
    "n = 1\n",
    "train_imagesi[n,:,:].shape"
   ]
  },
  {
   "cell_type": "code",
   "execution_count": 3,
   "id": "e1f72fad",
   "metadata": {},
   "outputs": [
    {
     "data": {
      "text/plain": [
       "'tensorflow'"
      ]
     },
     "execution_count": 3,
     "metadata": {},
     "output_type": "execute_result"
    }
   ],
   "source": [
    "keras.backend.backend()"
   ]
  },
  {
   "cell_type": "code",
   "execution_count": 6,
   "id": "12c4881d",
   "metadata": {},
   "outputs": [
    {
     "data": {
      "image/png": "[encoded data removed]",
      "text/plain": [
       "<Figure size 640x480 with 1 Axes>"
      ]
     },
     "metadata": {},
     "output_type": "display_data"
    },
    {
     "name": "stdout",
     "output_type": "stream",
     "text": [
      "5\n"
     ]
    }
   ],
   "source": [
    "n = 2591\n",
    "plt.imshow(train_imagesi[n, :, :])\n",
    "plt.show()\n",
    "print(train_labels[n])"
   ]
  },
  {
   "cell_type": "code",
   "execution_count": 7,
   "id": "7808bebb",
   "metadata": {},
   "outputs": [
    {
     "data": {
      "text/plain": [
       "array([9, 0, 0, 3, 0, 2, 7, 2, 5, 5, 0, 9], dtype=uint8)"
      ]
     },
     "execution_count": 7,
     "metadata": {},
     "output_type": "execute_result"
    }
   ],
   "source": [
    "train_labels[:12]"
   ]
  },
  {
   "cell_type": "code",
   "execution_count": 10,
   "id": "c8f0511b",
   "metadata": {},
   "outputs": [],
   "source": [
    "model1 = Sequential(name='my_first_model')\n",
    "model1.add(Dense(128, activation='relu', input_shape=(784,)))\n",
    "for k in range(2):\n",
    "    model1.add(Dense(10+(10-k)*10, activation='tanh'))\n",
    "    \n",
    "model1.add(Dense(10, activation='softmax'))"
   ]
  },
  {
   "cell_type": "code",
   "execution_count": 11,
   "id": "6a6cc8fb",
   "metadata": {},
   "outputs": [],
   "source": [
    "model1.compile(\n",
    "    optimizer='adam',\n",
    "    loss=keras.losses.CategoricalCrossentropy(),\n",
    "    metrics=['accuracy']\n",
    ")"
   ]
  },
  {
   "cell_type": "code",
   "execution_count": null,
   "id": "7070a43e",
   "metadata": {},
   "outputs": [],
   "source": []
  }
 ],
 "metadata": {
  "kernelspec": {
   "display_name": "Python 3 (ipykernel)",
   "language": "python",
   "name": "python3"
  },
  "language_info": {
   "codemirror_mode": {
    "name": "ipython",
    "version": 3
   },
   "file_extension": ".py",
   "mimetype": "text/x-python",
   "name": "python",
   "nbconvert_exporter": "python",
   "pygments_lexer": "ipython3",
   "version": "3.10.8"
  }
 },
 "nbformat": 4,
 "nbformat_minor": 5
}
